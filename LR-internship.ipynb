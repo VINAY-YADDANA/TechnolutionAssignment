{
 "cells": [
  {
   "cell_type": "code",
   "execution_count": 158,
   "metadata": {},
   "outputs": [],
   "source": [
    "import numpy as np\n",
    "import pandas as pd\n",
    "import numpy as np\n",
    "from math import sqrt\n",
    "import matplotlib.pyplot as plt\n",
    "%matplotlib inline\n",
    "\n",
    "import warnings\n",
    "warnings.filterwarnings('always')"
   ]
  },
  {
   "cell_type": "code",
   "execution_count": 203,
   "metadata": {},
   "outputs": [
    {
     "data": {
      "text/plain": [
       "(100000, 12)"
      ]
     },
     "execution_count": 203,
     "metadata": {},
     "output_type": "execute_result"
    }
   ],
   "source": [
    "data=pd.read_csv('training_frame.csv')\n",
    "data.shape"
   ]
  },
  {
   "cell_type": "code",
   "execution_count": null,
   "metadata": {},
   "outputs": [],
   "source": []
  },
  {
   "cell_type": "code",
   "execution_count": 182,
   "metadata": {},
   "outputs": [
    {
     "data": {
      "text/plain": [
       "Text(0.5, 0, 'Coded')"
      ]
     },
     "execution_count": 182,
     "metadata": {},
     "output_type": "execute_result"
    },
    {
     "data": {
      "image/png": "[encoded data removed]",
      "text/plain": [
       "<Figure size 432x288 with 1 Axes>"
      ]
     },
     "metadata": {
      "needs_background": "light"
     },
     "output_type": "display_data"
    }
   ],
   "source": [
    "data['Coded'].plot.hist(bins = 50)\n",
    "plt.xlabel('Coded', fontsize=12)"
   ]
  },
  {
   "cell_type": "code",
   "execution_count": 183,
   "metadata": {},
   "outputs": [],
   "source": [
    "data.drop_duplicates(subset='patient_id', keep='first', inplace=True)"
   ]
  },
  {
   "cell_type": "code",
   "execution_count": 184,
   "metadata": {},
   "outputs": [],
   "source": [
    "data.drop(['Unnamed: 0','vitals_datetime','machine_id','patient_id'],axis=1,inplace=True)"
   ]
  },
  {
   "cell_type": "code",
   "execution_count": 185,
   "metadata": {},
   "outputs": [
    {
     "data": {
      "text/plain": [
       "((126, 7), (126,))"
      ]
     },
     "execution_count": 185,
     "metadata": {},
     "output_type": "execute_result"
    }
   ],
   "source": [
    "x=data.drop(['Coded'],axis=1)\n",
    "y=data['Coded']\n",
    "x.shape, y.shape"
   ]
  },
  {
   "cell_type": "code",
   "execution_count": 186,
   "metadata": {},
   "outputs": [],
   "source": [
    "from sklearn.model_selection import train_test_split\n",
    "train_x,test_x,train_y,test_y=train_test_split(x,y,random_state=56)"
   ]
  },
  {
   "cell_type": "code",
   "execution_count": 187,
   "metadata": {},
   "outputs": [],
   "source": [
    "from sklearn.preprocessing import MinMaxScaler\n",
    "scaler=MinMaxScaler()\n"
   ]
  },
  {
   "cell_type": "code",
   "execution_count": 188,
   "metadata": {},
   "outputs": [
    {
     "data": {
      "text/plain": [
       "Index(['heart_rate', 'respiration_over_impedence',\n",
       "       'spirometry_oxygen_saturation', 'pulse', 'blood_pressure_systolic',\n",
       "       'blood_pressure_diastolic', 'blood_pressure_average'],\n",
       "      dtype='object')"
      ]
     },
     "execution_count": 188,
     "metadata": {},
     "output_type": "execute_result"
    }
   ],
   "source": [
    "cols=train_x.columns\n",
    "cols"
   ]
  },
  {
   "cell_type": "code",
   "execution_count": 189,
   "metadata": {},
   "outputs": [
    {
     "data": {
      "text/html": [
       "<div>\n",
       "<style scoped>\n",
       "    .dataframe tbody tr th:only-of-type {\n",
       "        vertical-align: middle;\n",
       "    }\n",
       "\n",
       "    .dataframe tbody tr th {\n",
       "        vertical-align: top;\n",
       "    }\n",
       "\n",
       "    .dataframe thead th {\n",
       "        text-align: right;\n",
       "    }\n",
       "</style>\n",
       "<table border=\"1\" class=\"dataframe\">\n",
       "  <thead>\n",
       "    <tr style=\"text-align: right;\">\n",
       "      <th></th>\n",
       "      <th>heart_rate</th>\n",
       "      <th>respiration_over_impedence</th>\n",
       "      <th>spirometry_oxygen_saturation</th>\n",
       "      <th>pulse</th>\n",
       "      <th>blood_pressure_systolic</th>\n",
       "      <th>blood_pressure_diastolic</th>\n",
       "      <th>blood_pressure_average</th>\n",
       "    </tr>\n",
       "  </thead>\n",
       "  <tbody>\n",
       "    <tr>\n",
       "      <th>0</th>\n",
       "      <td>0.513761</td>\n",
       "      <td>0.2875</td>\n",
       "      <td>0.625000</td>\n",
       "      <td>0.528846</td>\n",
       "      <td>0.460317</td>\n",
       "      <td>0.454545</td>\n",
       "      <td>0.268293</td>\n",
       "    </tr>\n",
       "    <tr>\n",
       "      <th>1</th>\n",
       "      <td>0.220183</td>\n",
       "      <td>0.2250</td>\n",
       "      <td>0.833333</td>\n",
       "      <td>0.211538</td>\n",
       "      <td>0.817460</td>\n",
       "      <td>0.818182</td>\n",
       "      <td>0.674797</td>\n",
       "    </tr>\n",
       "    <tr>\n",
       "      <th>2</th>\n",
       "      <td>0.293578</td>\n",
       "      <td>0.2250</td>\n",
       "      <td>0.958333</td>\n",
       "      <td>0.230769</td>\n",
       "      <td>0.650794</td>\n",
       "      <td>0.714286</td>\n",
       "      <td>0.430894</td>\n",
       "    </tr>\n",
       "    <tr>\n",
       "      <th>3</th>\n",
       "      <td>0.119266</td>\n",
       "      <td>0.2500</td>\n",
       "      <td>1.000000</td>\n",
       "      <td>0.096154</td>\n",
       "      <td>0.373016</td>\n",
       "      <td>0.649351</td>\n",
       "      <td>0.406504</td>\n",
       "    </tr>\n",
       "    <tr>\n",
       "      <th>4</th>\n",
       "      <td>0.357798</td>\n",
       "      <td>0.2000</td>\n",
       "      <td>1.000000</td>\n",
       "      <td>0.346154</td>\n",
       "      <td>0.293651</td>\n",
       "      <td>0.584416</td>\n",
       "      <td>0.317073</td>\n",
       "    </tr>\n",
       "  </tbody>\n",
       "</table>\n",
       "</div>"
      ],
      "text/plain": [
       "   heart_rate  respiration_over_impedence  spirometry_oxygen_saturation  \\\n",
       "0    0.513761                      0.2875                      0.625000   \n",
       "1    0.220183                      0.2250                      0.833333   \n",
       "2    0.293578                      0.2250                      0.958333   \n",
       "3    0.119266                      0.2500                      1.000000   \n",
       "4    0.357798                      0.2000                      1.000000   \n",
       "\n",
       "      pulse  blood_pressure_systolic  blood_pressure_diastolic  \\\n",
       "0  0.528846                 0.460317                  0.454545   \n",
       "1  0.211538                 0.817460                  0.818182   \n",
       "2  0.230769                 0.650794                  0.714286   \n",
       "3  0.096154                 0.373016                  0.649351   \n",
       "4  0.346154                 0.293651                  0.584416   \n",
       "\n",
       "   blood_pressure_average  \n",
       "0                0.268293  \n",
       "1                0.674797  \n",
       "2                0.430894  \n",
       "3                0.406504  \n",
       "4                0.317073  "
      ]
     },
     "execution_count": 189,
     "metadata": {},
     "output_type": "execute_result"
    }
   ],
   "source": [
    "train_x_scaled=scaler.fit_transform(train_x)\n",
    "train_x_scaled=pd.DataFrame(train_x_scaled,columns=cols)\n",
    "train_x_scaled.head()"
   ]
  },
  {
   "cell_type": "code",
   "execution_count": 190,
   "metadata": {},
   "outputs": [
    {
     "data": {
      "text/html": [
       "<div>\n",
       "<style scoped>\n",
       "    .dataframe tbody tr th:only-of-type {\n",
       "        vertical-align: middle;\n",
       "    }\n",
       "\n",
       "    .dataframe tbody tr th {\n",
       "        vertical-align: top;\n",
       "    }\n",
       "\n",
       "    .dataframe thead th {\n",
       "        text-align: right;\n",
       "    }\n",
       "</style>\n",
       "<table border=\"1\" class=\"dataframe\">\n",
       "  <thead>\n",
       "    <tr style=\"text-align: right;\">\n",
       "      <th></th>\n",
       "      <th>heart_rate</th>\n",
       "      <th>respiration_over_impedence</th>\n",
       "      <th>spirometry_oxygen_saturation</th>\n",
       "      <th>pulse</th>\n",
       "      <th>blood_pressure_systolic</th>\n",
       "      <th>blood_pressure_diastolic</th>\n",
       "      <th>blood_pressure_average</th>\n",
       "    </tr>\n",
       "  </thead>\n",
       "  <tbody>\n",
       "    <tr>\n",
       "      <th>0</th>\n",
       "      <td>0.247706</td>\n",
       "      <td>0.2125</td>\n",
       "      <td>1.000000</td>\n",
       "      <td>0.230769</td>\n",
       "      <td>0.333333</td>\n",
       "      <td>0.389610</td>\n",
       "      <td>0.300813</td>\n",
       "    </tr>\n",
       "    <tr>\n",
       "      <th>1</th>\n",
       "      <td>0.330275</td>\n",
       "      <td>0.2250</td>\n",
       "      <td>0.791667</td>\n",
       "      <td>0.586538</td>\n",
       "      <td>0.857143</td>\n",
       "      <td>0.324675</td>\n",
       "      <td>0.300813</td>\n",
       "    </tr>\n",
       "    <tr>\n",
       "      <th>2</th>\n",
       "      <td>0.284404</td>\n",
       "      <td>0.1750</td>\n",
       "      <td>0.750000</td>\n",
       "      <td>0.278846</td>\n",
       "      <td>0.436508</td>\n",
       "      <td>0.285714</td>\n",
       "      <td>0.154472</td>\n",
       "    </tr>\n",
       "    <tr>\n",
       "      <th>3</th>\n",
       "      <td>1.018349</td>\n",
       "      <td>0.1750</td>\n",
       "      <td>1.000000</td>\n",
       "      <td>1.009615</td>\n",
       "      <td>0.277778</td>\n",
       "      <td>0.311688</td>\n",
       "      <td>0.268293</td>\n",
       "    </tr>\n",
       "    <tr>\n",
       "      <th>4</th>\n",
       "      <td>0.467890</td>\n",
       "      <td>0.2250</td>\n",
       "      <td>0.541667</td>\n",
       "      <td>0.451923</td>\n",
       "      <td>0.468254</td>\n",
       "      <td>0.584416</td>\n",
       "      <td>0.341463</td>\n",
       "    </tr>\n",
       "  </tbody>\n",
       "</table>\n",
       "</div>"
      ],
      "text/plain": [
       "   heart_rate  respiration_over_impedence  spirometry_oxygen_saturation  \\\n",
       "0    0.247706                      0.2125                      1.000000   \n",
       "1    0.330275                      0.2250                      0.791667   \n",
       "2    0.284404                      0.1750                      0.750000   \n",
       "3    1.018349                      0.1750                      1.000000   \n",
       "4    0.467890                      0.2250                      0.541667   \n",
       "\n",
       "      pulse  blood_pressure_systolic  blood_pressure_diastolic  \\\n",
       "0  0.230769                 0.333333                  0.389610   \n",
       "1  0.586538                 0.857143                  0.324675   \n",
       "2  0.278846                 0.436508                  0.285714   \n",
       "3  1.009615                 0.277778                  0.311688   \n",
       "4  0.451923                 0.468254                  0.584416   \n",
       "\n",
       "   blood_pressure_average  \n",
       "0                0.300813  \n",
       "1                0.300813  \n",
       "2                0.154472  \n",
       "3                0.268293  \n",
       "4                0.341463  "
      ]
     },
     "execution_count": 190,
     "metadata": {},
     "output_type": "execute_result"
    }
   ],
   "source": [
    "test_x_scaled=scaler.transform(test_x)\n",
    "test_x_scaled=pd.DataFrame(test_x_scaled,columns=cols)\n",
    "test_x_scaled.head()"
   ]
  },
  {
   "cell_type": "code",
   "execution_count": 191,
   "metadata": {},
   "outputs": [],
   "source": [
    "#LR Imple"
   ]
  },
  {
   "cell_type": "code",
   "execution_count": 192,
   "metadata": {},
   "outputs": [],
   "source": [
    "from sklearn.linear_model import LogisticRegression as Logreg\n",
    "from sklearn.metrics import f1_score"
   ]
  },
  {
   "cell_type": "code",
   "execution_count": 193,
   "metadata": {},
   "outputs": [
    {
     "name": "stderr",
     "output_type": "stream",
     "text": [
      "C:\\Users\\yadda\\Anaconda3\\lib\\site-packages\\sklearn\\linear_model\\logistic.py:432: FutureWarning: Default solver will be changed to 'lbfgs' in 0.22. Specify a solver to silence this warning.\n",
      "  FutureWarning)\n"
     ]
    },
    {
     "data": {
      "text/plain": [
       "LogisticRegression(C=1.0, class_weight=None, dual=False, fit_intercept=True,\n",
       "                   intercept_scaling=1, l1_ratio=None, max_iter=100,\n",
       "                   multi_class='warn', n_jobs=None, penalty='l2',\n",
       "                   random_state=None, solver='warn', tol=0.0001, verbose=0,\n",
       "                   warm_start=False)"
      ]
     },
     "execution_count": 193,
     "metadata": {},
     "output_type": "execute_result"
    }
   ],
   "source": [
    "logreg=Logreg()\n",
    "logreg.fit(train_x,train_y)"
   ]
  },
  {
   "cell_type": "code",
   "execution_count": 194,
   "metadata": {},
   "outputs": [
    {
     "data": {
      "text/plain": [
       "array([0., 0., 0., 0., 0., 0., 0., 0., 0., 0., 0., 0., 0., 0., 0., 0., 0.,\n",
       "       0., 0., 0., 0., 0., 0., 0., 0., 0., 0., 0., 0., 0., 0., 0., 0., 0.,\n",
       "       0., 0., 0., 0., 0., 0., 0., 0., 0., 0., 0., 0., 0., 0., 0., 0., 0.,\n",
       "       0., 0., 0., 0., 0., 0., 0., 0., 0., 0., 0., 0., 0., 0., 0., 0., 0.,\n",
       "       0., 0., 0., 0., 0., 0., 0., 0., 0., 0., 0., 0., 0., 0., 0., 0., 0.,\n",
       "       0., 0., 0., 0., 0., 0., 0., 0., 0.])"
      ]
     },
     "execution_count": 194,
     "metadata": {},
     "output_type": "execute_result"
    }
   ],
   "source": [
    "train_predict=logreg.predict(train_x)\n",
    "train_predict"
   ]
  },
  {
   "cell_type": "code",
   "execution_count": 195,
   "metadata": {},
   "outputs": [
    {
     "name": "stdout",
     "output_type": "stream",
     "text": [
      "F1 SCORE: 0.0\n"
     ]
    },
    {
     "name": "stderr",
     "output_type": "stream",
     "text": [
      "C:\\Users\\yadda\\Anaconda3\\lib\\site-packages\\sklearn\\metrics\\classification.py:1439: UndefinedMetricWarning: F-score is ill-defined and being set to 0.0 due to no true samples.\n",
      "  'recall', 'true', average, warn_for)\n"
     ]
    }
   ],
   "source": [
    "k=f1_score(train_predict,train_y)\n",
    "print(\"F1 SCORE:\",k)"
   ]
  },
  {
   "cell_type": "code",
   "execution_count": 196,
   "metadata": {},
   "outputs": [
    {
     "name": "stdout",
     "output_type": "stream",
     "text": [
      "Test f1 score: 0.0\n"
     ]
    },
    {
     "name": "stderr",
     "output_type": "stream",
     "text": [
      "C:\\Users\\yadda\\Anaconda3\\lib\\site-packages\\sklearn\\metrics\\classification.py:1437: UndefinedMetricWarning: F-score is ill-defined and being set to 0.0 due to no predicted samples.\n",
      "  'precision', 'predicted', average, warn_for)\n",
      "C:\\Users\\yadda\\Anaconda3\\lib\\site-packages\\sklearn\\metrics\\classification.py:1439: UndefinedMetricWarning: F-score is ill-defined and being set to 0.0 due to no true samples.\n",
      "  'recall', 'true', average, warn_for)\n"
     ]
    }
   ],
   "source": [
    "test_predict=logreg.predict(test_x)\n",
    "k=f1_score(test_predict,test_y)\n",
    "print(\"Test f1 score:\",k)"
   ]
  },
  {
   "cell_type": "code",
   "execution_count": 197,
   "metadata": {},
   "outputs": [
    {
     "data": {
      "text/plain": [
       "array([[9.46797958e-01, 5.32020415e-02],\n",
       "       [9.99260121e-01, 7.39878550e-04],\n",
       "       [9.82142891e-01, 1.78571085e-02],\n",
       "       [9.98929840e-01, 1.07016044e-03],\n",
       "       [9.96170724e-01, 3.82927614e-03],\n",
       "       [9.12439219e-01, 8.75607809e-02],\n",
       "       [9.99606745e-01, 3.93254968e-04],\n",
       "       [9.70588705e-01, 2.94112946e-02],\n",
       "       [9.97895718e-01, 2.10428204e-03],\n",
       "       [9.89067885e-01, 1.09321147e-02],\n",
       "       [9.68388969e-01, 3.16110306e-02],\n",
       "       [9.99841822e-01, 1.58177574e-04],\n",
       "       [9.28069190e-01, 7.19308095e-02],\n",
       "       [9.94049534e-01, 5.95046639e-03],\n",
       "       [9.99520215e-01, 4.79785230e-04],\n",
       "       [9.71802386e-01, 2.81976142e-02],\n",
       "       [9.94595340e-01, 5.40465988e-03],\n",
       "       [9.93280129e-01, 6.71987117e-03],\n",
       "       [9.76645974e-01, 2.33540256e-02],\n",
       "       [9.98791896e-01, 1.20810388e-03],\n",
       "       [9.99276283e-01, 7.23717197e-04],\n",
       "       [9.97769569e-01, 2.23043083e-03],\n",
       "       [9.10179421e-01, 8.98205794e-02],\n",
       "       [9.99888297e-01, 1.11703250e-04],\n",
       "       [9.92650319e-01, 7.34968085e-03],\n",
       "       [9.92136414e-01, 7.86358571e-03],\n",
       "       [9.93824898e-01, 6.17510194e-03],\n",
       "       [9.44727647e-01, 5.52723533e-02],\n",
       "       [9.96846468e-01, 3.15353195e-03],\n",
       "       [9.96662166e-01, 3.33783399e-03],\n",
       "       [9.99628914e-01, 3.71086133e-04],\n",
       "       [9.97839896e-01, 2.16010401e-03],\n",
       "       [9.94037349e-01, 5.96265102e-03],\n",
       "       [9.99501598e-01, 4.98402198e-04],\n",
       "       [9.99401040e-01, 5.98960014e-04],\n",
       "       [9.92466415e-01, 7.53358471e-03],\n",
       "       [9.95316318e-01, 4.68368166e-03],\n",
       "       [9.95985824e-01, 4.01417610e-03],\n",
       "       [9.96668059e-01, 3.33194087e-03],\n",
       "       [9.82270269e-01, 1.77297307e-02],\n",
       "       [9.77256432e-01, 2.27435684e-02],\n",
       "       [9.86519789e-01, 1.34802106e-02],\n",
       "       [9.99564684e-01, 4.35316330e-04],\n",
       "       [6.76793781e-01, 3.23206219e-01],\n",
       "       [9.73891362e-01, 2.61086381e-02],\n",
       "       [7.99947219e-01, 2.00052781e-01],\n",
       "       [9.96268239e-01, 3.73176143e-03],\n",
       "       [9.98697834e-01, 1.30216603e-03],\n",
       "       [9.93949648e-01, 6.05035202e-03],\n",
       "       [9.97462478e-01, 2.53752152e-03],\n",
       "       [9.98777513e-01, 1.22248664e-03],\n",
       "       [9.65709640e-01, 3.42903604e-02],\n",
       "       [9.90394216e-01, 9.60578448e-03],\n",
       "       [7.89861775e-01, 2.10138225e-01],\n",
       "       [9.97814408e-01, 2.18559220e-03],\n",
       "       [9.77666141e-01, 2.23338585e-02],\n",
       "       [9.95018929e-01, 4.98107128e-03],\n",
       "       [9.98009778e-01, 1.99022181e-03],\n",
       "       [9.28561505e-01, 7.14384945e-02],\n",
       "       [9.99999994e-01, 5.65568371e-09],\n",
       "       [9.98140758e-01, 1.85924166e-03],\n",
       "       [9.94506064e-01, 5.49393583e-03],\n",
       "       [9.99437837e-01, 5.62162981e-04],\n",
       "       [9.78283061e-01, 2.17169386e-02],\n",
       "       [9.93437512e-01, 6.56248765e-03],\n",
       "       [9.88996887e-01, 1.10031129e-02],\n",
       "       [9.98651936e-01, 1.34806426e-03],\n",
       "       [9.94579717e-01, 5.42028258e-03],\n",
       "       [9.93672751e-01, 6.32724877e-03],\n",
       "       [9.97464034e-01, 2.53596552e-03],\n",
       "       [9.99639123e-01, 3.60876821e-04],\n",
       "       [9.99963501e-01, 3.64992460e-05],\n",
       "       [9.97795674e-01, 2.20432555e-03],\n",
       "       [9.97312812e-01, 2.68718773e-03],\n",
       "       [9.96133964e-01, 3.86603601e-03],\n",
       "       [9.35958625e-01, 6.40413751e-02],\n",
       "       [9.95234063e-01, 4.76593732e-03],\n",
       "       [9.99472636e-01, 5.27364393e-04],\n",
       "       [9.94420421e-01, 5.57957852e-03],\n",
       "       [9.90453377e-01, 9.54662342e-03],\n",
       "       [9.90858188e-01, 9.14181219e-03],\n",
       "       [9.98102303e-01, 1.89769668e-03],\n",
       "       [9.73391670e-01, 2.66083299e-02],\n",
       "       [8.87850011e-01, 1.12149989e-01],\n",
       "       [9.94101442e-01, 5.89855818e-03],\n",
       "       [9.99749283e-01, 2.50717303e-04],\n",
       "       [9.89049962e-01, 1.09500384e-02],\n",
       "       [9.97008630e-01, 2.99136996e-03],\n",
       "       [9.77398380e-01, 2.26016199e-02],\n",
       "       [9.80371186e-01, 1.96288144e-02],\n",
       "       [9.95585994e-01, 4.41400598e-03],\n",
       "       [9.81594737e-01, 1.84052633e-02],\n",
       "       [9.93782236e-01, 6.21776407e-03],\n",
       "       [9.96299304e-01, 3.70069608e-03]])"
      ]
     },
     "execution_count": 197,
     "metadata": {},
     "output_type": "execute_result"
    }
   ],
   "source": [
    "#Using predict_proba\n",
    "train_predict=logreg.predict_proba(train_x)\n",
    "train_predict"
   ]
  },
  {
   "cell_type": "code",
   "execution_count": 198,
   "metadata": {
    "scrolled": true
   },
   "outputs": [
    {
     "data": {
      "text/plain": [
       "array([5.32020415e-02, 7.39878550e-04, 1.78571085e-02, 1.07016044e-03,\n",
       "       3.82927614e-03, 8.75607809e-02, 3.93254968e-04, 2.94112946e-02,\n",
       "       2.10428204e-03, 1.09321147e-02, 3.16110306e-02, 1.58177574e-04,\n",
       "       7.19308095e-02, 5.95046639e-03, 4.79785230e-04, 2.81976142e-02,\n",
       "       5.40465988e-03, 6.71987117e-03, 2.33540256e-02, 1.20810388e-03,\n",
       "       7.23717197e-04, 2.23043083e-03, 8.98205794e-02, 1.11703250e-04,\n",
       "       7.34968085e-03, 7.86358571e-03, 6.17510194e-03, 5.52723533e-02,\n",
       "       3.15353195e-03, 3.33783399e-03, 3.71086133e-04, 2.16010401e-03,\n",
       "       5.96265102e-03, 4.98402198e-04, 5.98960014e-04, 7.53358471e-03,\n",
       "       4.68368166e-03, 4.01417610e-03, 3.33194087e-03, 1.77297307e-02,\n",
       "       2.27435684e-02, 1.34802106e-02, 4.35316330e-04, 3.23206219e-01,\n",
       "       2.61086381e-02, 2.00052781e-01, 3.73176143e-03, 1.30216603e-03,\n",
       "       6.05035202e-03, 2.53752152e-03, 1.22248664e-03, 3.42903604e-02,\n",
       "       9.60578448e-03, 2.10138225e-01, 2.18559220e-03, 2.23338585e-02,\n",
       "       4.98107128e-03, 1.99022181e-03, 7.14384945e-02, 5.65568371e-09,\n",
       "       1.85924166e-03, 5.49393583e-03, 5.62162981e-04, 2.17169386e-02,\n",
       "       6.56248765e-03, 1.10031129e-02, 1.34806426e-03, 5.42028258e-03,\n",
       "       6.32724877e-03, 2.53596552e-03, 3.60876821e-04, 3.64992460e-05,\n",
       "       2.20432555e-03, 2.68718773e-03, 3.86603601e-03, 6.40413751e-02,\n",
       "       4.76593732e-03, 5.27364393e-04, 5.57957852e-03, 9.54662342e-03,\n",
       "       9.14181219e-03, 1.89769668e-03, 2.66083299e-02, 1.12149989e-01,\n",
       "       5.89855818e-03, 2.50717303e-04, 1.09500384e-02, 2.99136996e-03,\n",
       "       2.26016199e-02, 1.96288144e-02, 4.41400598e-03, 1.84052633e-02,\n",
       "       6.21776407e-03, 3.70069608e-03])"
      ]
     },
     "execution_count": 198,
     "metadata": {},
     "output_type": "execute_result"
    }
   ],
   "source": [
    "train_preds=train_predict[:,1]\n",
    "train_preds"
   ]
  },
  {
   "cell_type": "code",
   "execution_count": 199,
   "metadata": {},
   "outputs": [],
   "source": [
    "for i in range(0,len(train_preds)):\n",
    "    if(train_preds[i]>0.001):\n",
    "        train_preds[i]=1\n",
    "    else:\n",
    "        train_preds[i]=0"
   ]
  },
  {
   "cell_type": "code",
   "execution_count": 200,
   "metadata": {},
   "outputs": [
    {
     "name": "stdout",
     "output_type": "stream",
     "text": [
      "F1 score: 0.05\n"
     ]
    }
   ],
   "source": [
    "k=f1_score(train_preds,train_y)\n",
    "print(\"F1 score:\",k)"
   ]
  },
  {
   "cell_type": "code",
   "execution_count": 201,
   "metadata": {},
   "outputs": [
    {
     "data": {
      "text/plain": [
       "array([[32]], dtype=int64)"
      ]
     },
     "execution_count": 201,
     "metadata": {},
     "output_type": "execute_result"
    }
   ],
   "source": [
    "#confusionMatrix\n",
    "from sklearn.metrics import confusion_matrix\n",
    "cf=confusion_matrix(test_y,test_predict)\n",
    "cf"
   ]
  },
  {
   "cell_type": "code",
   "execution_count": 202,
   "metadata": {},
   "outputs": [
    {
     "name": "stdout",
     "output_type": "stream",
     "text": [
      "              precision    recall  f1-score   support\n",
      "\n",
      "         0.0       1.00      1.00      1.00        32\n",
      "\n",
      "    accuracy                           1.00        32\n",
      "   macro avg       1.00      1.00      1.00        32\n",
      "weighted avg       1.00      1.00      1.00        32\n",
      "\n"
     ]
    }
   ],
   "source": [
    "from sklearn.metrics import classification_report as rp\n",
    "print(rp(test_y,test_predict))"
   ]
  },
  {
   "cell_type": "code",
   "execution_count": null,
   "metadata": {},
   "outputs": [],
   "source": []
  },
  {
   "cell_type": "code",
   "execution_count": null,
   "metadata": {},
   "outputs": [],
   "source": []
  }
 ],
 "metadata": {
  "kernelspec": {
   "display_name": "Python 3",
   "language": "python",
   "name": "python3"
  },
  "language_info": {
   "codemirror_mode": {
    "name": "ipython",
    "version": 3
   },
   "file_extension": ".py",
   "mimetype": "text/x-python",
   "name": "python",
   "nbconvert_exporter": "python",
   "pygments_lexer": "ipython3",
   "version": "3.7.3"
  }
 },
 "nbformat": 4,
 "nbformat_minor": 2
}
