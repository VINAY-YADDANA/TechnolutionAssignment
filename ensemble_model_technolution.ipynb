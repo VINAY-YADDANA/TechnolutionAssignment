{
 "cells": [
  {
   "cell_type": "markdown",
   "metadata": {},
   "source": [
    "# ENSEMBLE-TECHNIQUE(MAX-VOTING)"
   ]
  },
  {
   "cell_type": "markdown",
   "metadata": {},
   "source": [
    "Loding required dataset"
   ]
  },
  {
   "cell_type": "code",
   "execution_count": 28,
   "metadata": {},
   "outputs": [],
   "source": [
    "import pandas as pd\n",
    "import numpy as np\n",
    "import matplotlib.pyplot as plt\n",
    "%matplotlib inline"
   ]
  },
  {
   "cell_type": "code",
   "execution_count": 29,
   "metadata": {},
   "outputs": [],
   "source": [
    "data=pd.read_csv('test_frame.csv')"
   ]
  },
  {
   "cell_type": "code",
   "execution_count": 30,
   "metadata": {},
   "outputs": [
    {
     "data": {
      "text/plain": [
       "(100000, 12)"
      ]
     },
     "execution_count": 30,
     "metadata": {},
     "output_type": "execute_result"
    }
   ],
   "source": [
    "data.shape"
   ]
  },
  {
   "cell_type": "code",
   "execution_count": 31,
   "metadata": {},
   "outputs": [
    {
     "data": {
      "text/html": [
       "<div>\n",
       "<style scoped>\n",
       "    .dataframe tbody tr th:only-of-type {\n",
       "        vertical-align: middle;\n",
       "    }\n",
       "\n",
       "    .dataframe tbody tr th {\n",
       "        vertical-align: top;\n",
       "    }\n",
       "\n",
       "    .dataframe thead th {\n",
       "        text-align: right;\n",
       "    }\n",
       "</style>\n",
       "<table border=\"1\" class=\"dataframe\">\n",
       "  <thead>\n",
       "    <tr style=\"text-align: right;\">\n",
       "      <th></th>\n",
       "      <th>Unnamed: 0</th>\n",
       "      <th>vitals_datetime</th>\n",
       "      <th>heart_rate</th>\n",
       "      <th>respiration_over_impedence</th>\n",
       "      <th>spirometry_oxygen_saturation</th>\n",
       "      <th>pulse</th>\n",
       "      <th>blood_pressure_systolic</th>\n",
       "      <th>blood_pressure_diastolic</th>\n",
       "      <th>blood_pressure_average</th>\n",
       "      <th>patient_id</th>\n",
       "      <th>machine_id</th>\n",
       "      <th>Coded</th>\n",
       "    </tr>\n",
       "  </thead>\n",
       "  <tbody>\n",
       "    <tr>\n",
       "      <th>0</th>\n",
       "      <td>0</td>\n",
       "      <td>2020-08-01 00:00:01+00:00</td>\n",
       "      <td>87.0</td>\n",
       "      <td>11.0</td>\n",
       "      <td>99.0</td>\n",
       "      <td>113.0</td>\n",
       "      <td>127.0</td>\n",
       "      <td>55.0</td>\n",
       "      <td>75.0</td>\n",
       "      <td>1824098</td>\n",
       "      <td>6BTELE-31</td>\n",
       "      <td>0.0</td>\n",
       "    </tr>\n",
       "    <tr>\n",
       "      <th>1</th>\n",
       "      <td>1</td>\n",
       "      <td>2020-08-01 00:00:06+00:00</td>\n",
       "      <td>49.0</td>\n",
       "      <td>0.0</td>\n",
       "      <td>100.0</td>\n",
       "      <td>71.0</td>\n",
       "      <td>139.0</td>\n",
       "      <td>65.0</td>\n",
       "      <td>112.0</td>\n",
       "      <td>151310</td>\n",
       "      <td>6WNTX-16</td>\n",
       "      <td>0.0</td>\n",
       "    </tr>\n",
       "    <tr>\n",
       "      <th>2</th>\n",
       "      <td>2</td>\n",
       "      <td>2020-08-01 00:00:14+00:00</td>\n",
       "      <td>105.0</td>\n",
       "      <td>20.0</td>\n",
       "      <td>95.0</td>\n",
       "      <td>106.0</td>\n",
       "      <td>86.0</td>\n",
       "      <td>35.0</td>\n",
       "      <td>49.0</td>\n",
       "      <td>1823860</td>\n",
       "      <td>MICU-02</td>\n",
       "      <td>0.0</td>\n",
       "    </tr>\n",
       "    <tr>\n",
       "      <th>3</th>\n",
       "      <td>3</td>\n",
       "      <td>2020-08-01 00:00:23+00:00</td>\n",
       "      <td>82.0</td>\n",
       "      <td>23.0</td>\n",
       "      <td>100.0</td>\n",
       "      <td>82.0</td>\n",
       "      <td>187.0</td>\n",
       "      <td>112.0</td>\n",
       "      <td>141.0</td>\n",
       "      <td>1824302</td>\n",
       "      <td>MICU-06</td>\n",
       "      <td>0.0</td>\n",
       "    </tr>\n",
       "    <tr>\n",
       "      <th>4</th>\n",
       "      <td>4</td>\n",
       "      <td>2020-08-01 00:00:32+00:00</td>\n",
       "      <td>84.0</td>\n",
       "      <td>18.0</td>\n",
       "      <td>99.0</td>\n",
       "      <td>84.0</td>\n",
       "      <td>124.0</td>\n",
       "      <td>75.0</td>\n",
       "      <td>91.0</td>\n",
       "      <td>131903</td>\n",
       "      <td>MICU-05</td>\n",
       "      <td>0.0</td>\n",
       "    </tr>\n",
       "  </tbody>\n",
       "</table>\n",
       "</div>"
      ],
      "text/plain": [
       "   Unnamed: 0            vitals_datetime  heart_rate  \\\n",
       "0           0  2020-08-01 00:00:01+00:00        87.0   \n",
       "1           1  2020-08-01 00:00:06+00:00        49.0   \n",
       "2           2  2020-08-01 00:00:14+00:00       105.0   \n",
       "3           3  2020-08-01 00:00:23+00:00        82.0   \n",
       "4           4  2020-08-01 00:00:32+00:00        84.0   \n",
       "\n",
       "   respiration_over_impedence  spirometry_oxygen_saturation  pulse  \\\n",
       "0                        11.0                          99.0  113.0   \n",
       "1                         0.0                         100.0   71.0   \n",
       "2                        20.0                          95.0  106.0   \n",
       "3                        23.0                         100.0   82.0   \n",
       "4                        18.0                          99.0   84.0   \n",
       "\n",
       "   blood_pressure_systolic  blood_pressure_diastolic  blood_pressure_average  \\\n",
       "0                    127.0                      55.0                    75.0   \n",
       "1                    139.0                      65.0                   112.0   \n",
       "2                     86.0                      35.0                    49.0   \n",
       "3                    187.0                     112.0                   141.0   \n",
       "4                    124.0                      75.0                    91.0   \n",
       "\n",
       "   patient_id machine_id  Coded  \n",
       "0     1824098  6BTELE-31    0.0  \n",
       "1      151310   6WNTX-16    0.0  \n",
       "2     1823860    MICU-02    0.0  \n",
       "3     1824302    MICU-06    0.0  \n",
       "4      131903    MICU-05    0.0  "
      ]
     },
     "execution_count": 31,
     "metadata": {},
     "output_type": "execute_result"
    }
   ],
   "source": [
    "data.head()"
   ]
  },
  {
   "cell_type": "markdown",
   "metadata": {},
   "source": [
    "# Finding if any null values exists"
   ]
  },
  {
   "cell_type": "code",
   "execution_count": 32,
   "metadata": {},
   "outputs": [
    {
     "data": {
      "text/plain": [
       "Unnamed: 0                      0\n",
       "vitals_datetime                 0\n",
       "heart_rate                      0\n",
       "respiration_over_impedence      0\n",
       "spirometry_oxygen_saturation    0\n",
       "pulse                           0\n",
       "blood_pressure_systolic         0\n",
       "blood_pressure_diastolic        0\n",
       "blood_pressure_average          0\n",
       "patient_id                      0\n",
       "machine_id                      0\n",
       "Coded                           0\n",
       "dtype: int64"
      ]
     },
     "execution_count": 32,
     "metadata": {},
     "output_type": "execute_result"
    }
   ],
   "source": [
    "data.isnull().sum()"
   ]
  },
  {
   "cell_type": "code",
   "execution_count": 33,
   "metadata": {},
   "outputs": [],
   "source": [
    "data.drop_duplicates(subset='patient_id', keep='first', inplace=True)"
   ]
  },
  {
   "cell_type": "markdown",
   "metadata": {},
   "source": [
    "# Dropping categorical variables"
   ]
  },
  {
   "cell_type": "code",
   "execution_count": 47,
   "metadata": {},
   "outputs": [
    {
     "data": {
      "text/html": [
       "<div>\n",
       "<style scoped>\n",
       "    .dataframe tbody tr th:only-of-type {\n",
       "        vertical-align: middle;\n",
       "    }\n",
       "\n",
       "    .dataframe tbody tr th {\n",
       "        vertical-align: top;\n",
       "    }\n",
       "\n",
       "    .dataframe thead th {\n",
       "        text-align: right;\n",
       "    }\n",
       "</style>\n",
       "<table border=\"1\" class=\"dataframe\">\n",
       "  <thead>\n",
       "    <tr style=\"text-align: right;\">\n",
       "      <th></th>\n",
       "      <th>heart_rate</th>\n",
       "      <th>respiration_over_impedence</th>\n",
       "      <th>spirometry_oxygen_saturation</th>\n",
       "      <th>pulse</th>\n",
       "      <th>blood_pressure_systolic</th>\n",
       "      <th>blood_pressure_diastolic</th>\n",
       "      <th>blood_pressure_average</th>\n",
       "      <th>Coded</th>\n",
       "    </tr>\n",
       "  </thead>\n",
       "  <tbody>\n",
       "    <tr>\n",
       "      <th>count</th>\n",
       "      <td>126.000000</td>\n",
       "      <td>126.000000</td>\n",
       "      <td>126.000000</td>\n",
       "      <td>126.000000</td>\n",
       "      <td>126.000000</td>\n",
       "      <td>126.000000</td>\n",
       "      <td>126.000000</td>\n",
       "      <td>126.000000</td>\n",
       "    </tr>\n",
       "    <tr>\n",
       "      <th>mean</th>\n",
       "      <td>82.880952</td>\n",
       "      <td>19.738095</td>\n",
       "      <td>97.468254</td>\n",
       "      <td>81.563492</td>\n",
       "      <td>130.285714</td>\n",
       "      <td>72.698413</td>\n",
       "      <td>92.190476</td>\n",
       "      <td>0.015873</td>\n",
       "    </tr>\n",
       "    <tr>\n",
       "      <th>std</th>\n",
       "      <td>21.326268</td>\n",
       "      <td>8.984590</td>\n",
       "      <td>3.738848</td>\n",
       "      <td>20.672492</td>\n",
       "      <td>26.844100</td>\n",
       "      <td>16.256578</td>\n",
       "      <td>20.746745</td>\n",
       "      <td>0.125483</td>\n",
       "    </tr>\n",
       "    <tr>\n",
       "      <th>min</th>\n",
       "      <td>31.000000</td>\n",
       "      <td>0.000000</td>\n",
       "      <td>76.000000</td>\n",
       "      <td>33.000000</td>\n",
       "      <td>78.000000</td>\n",
       "      <td>35.000000</td>\n",
       "      <td>49.000000</td>\n",
       "      <td>0.000000</td>\n",
       "    </tr>\n",
       "    <tr>\n",
       "      <th>25%</th>\n",
       "      <td>68.250000</td>\n",
       "      <td>16.000000</td>\n",
       "      <td>96.000000</td>\n",
       "      <td>68.000000</td>\n",
       "      <td>110.750000</td>\n",
       "      <td>60.000000</td>\n",
       "      <td>78.000000</td>\n",
       "      <td>0.000000</td>\n",
       "    </tr>\n",
       "    <tr>\n",
       "      <th>50%</th>\n",
       "      <td>81.000000</td>\n",
       "      <td>19.000000</td>\n",
       "      <td>99.000000</td>\n",
       "      <td>76.000000</td>\n",
       "      <td>125.500000</td>\n",
       "      <td>72.500000</td>\n",
       "      <td>90.000000</td>\n",
       "      <td>0.000000</td>\n",
       "    </tr>\n",
       "    <tr>\n",
       "      <th>75%</th>\n",
       "      <td>94.000000</td>\n",
       "      <td>23.000000</td>\n",
       "      <td>100.000000</td>\n",
       "      <td>96.000000</td>\n",
       "      <td>151.750000</td>\n",
       "      <td>84.750000</td>\n",
       "      <td>104.000000</td>\n",
       "      <td>0.000000</td>\n",
       "    </tr>\n",
       "    <tr>\n",
       "      <th>max</th>\n",
       "      <td>156.000000</td>\n",
       "      <td>80.000000</td>\n",
       "      <td>100.000000</td>\n",
       "      <td>152.000000</td>\n",
       "      <td>204.000000</td>\n",
       "      <td>112.000000</td>\n",
       "      <td>172.000000</td>\n",
       "      <td>1.000000</td>\n",
       "    </tr>\n",
       "  </tbody>\n",
       "</table>\n",
       "</div>"
      ],
      "text/plain": [
       "       heart_rate  respiration_over_impedence  spirometry_oxygen_saturation  \\\n",
       "count  126.000000                  126.000000                    126.000000   \n",
       "mean    82.880952                   19.738095                     97.468254   \n",
       "std     21.326268                    8.984590                      3.738848   \n",
       "min     31.000000                    0.000000                     76.000000   \n",
       "25%     68.250000                   16.000000                     96.000000   \n",
       "50%     81.000000                   19.000000                     99.000000   \n",
       "75%     94.000000                   23.000000                    100.000000   \n",
       "max    156.000000                   80.000000                    100.000000   \n",
       "\n",
       "            pulse  blood_pressure_systolic  blood_pressure_diastolic  \\\n",
       "count  126.000000               126.000000                126.000000   \n",
       "mean    81.563492               130.285714                 72.698413   \n",
       "std     20.672492                26.844100                 16.256578   \n",
       "min     33.000000                78.000000                 35.000000   \n",
       "25%     68.000000               110.750000                 60.000000   \n",
       "50%     76.000000               125.500000                 72.500000   \n",
       "75%     96.000000               151.750000                 84.750000   \n",
       "max    152.000000               204.000000                112.000000   \n",
       "\n",
       "       blood_pressure_average       Coded  \n",
       "count              126.000000  126.000000  \n",
       "mean                92.190476    0.015873  \n",
       "std                 20.746745    0.125483  \n",
       "min                 49.000000    0.000000  \n",
       "25%                 78.000000    0.000000  \n",
       "50%                 90.000000    0.000000  \n",
       "75%                104.000000    0.000000  \n",
       "max                172.000000    1.000000  "
      ]
     },
     "execution_count": 47,
     "metadata": {},
     "output_type": "execute_result"
    }
   ],
   "source": [
    "data.describe()"
   ]
  },
  {
   "cell_type": "code",
   "execution_count": 48,
   "metadata": {},
   "outputs": [
    {
     "data": {
      "text/plain": [
       "heart_rate                      float64\n",
       "respiration_over_impedence      float64\n",
       "spirometry_oxygen_saturation    float64\n",
       "pulse                           float64\n",
       "blood_pressure_systolic         float64\n",
       "blood_pressure_diastolic        float64\n",
       "blood_pressure_average          float64\n",
       "Coded                           float64\n",
       "dtype: object"
      ]
     },
     "execution_count": 48,
     "metadata": {},
     "output_type": "execute_result"
    }
   ],
   "source": [
    "data.dtypes"
   ]
  },
  {
   "cell_type": "code",
   "execution_count": 34,
   "metadata": {},
   "outputs": [],
   "source": [
    "data.drop(['Unnamed: 0','vitals_datetime','machine_id','patient_id'],axis=1,inplace=True)"
   ]
  },
  {
   "cell_type": "code",
   "execution_count": 35,
   "metadata": {},
   "outputs": [
    {
     "data": {
      "text/html": [
       "<div>\n",
       "<style scoped>\n",
       "    .dataframe tbody tr th:only-of-type {\n",
       "        vertical-align: middle;\n",
       "    }\n",
       "\n",
       "    .dataframe tbody tr th {\n",
       "        vertical-align: top;\n",
       "    }\n",
       "\n",
       "    .dataframe thead th {\n",
       "        text-align: right;\n",
       "    }\n",
       "</style>\n",
       "<table border=\"1\" class=\"dataframe\">\n",
       "  <thead>\n",
       "    <tr style=\"text-align: right;\">\n",
       "      <th></th>\n",
       "      <th>heart_rate</th>\n",
       "      <th>respiration_over_impedence</th>\n",
       "      <th>spirometry_oxygen_saturation</th>\n",
       "      <th>pulse</th>\n",
       "      <th>blood_pressure_systolic</th>\n",
       "      <th>blood_pressure_diastolic</th>\n",
       "      <th>blood_pressure_average</th>\n",
       "      <th>Coded</th>\n",
       "    </tr>\n",
       "  </thead>\n",
       "  <tbody>\n",
       "    <tr>\n",
       "      <th>0</th>\n",
       "      <td>87.0</td>\n",
       "      <td>11.0</td>\n",
       "      <td>99.0</td>\n",
       "      <td>113.0</td>\n",
       "      <td>127.0</td>\n",
       "      <td>55.0</td>\n",
       "      <td>75.0</td>\n",
       "      <td>0.0</td>\n",
       "    </tr>\n",
       "    <tr>\n",
       "      <th>1</th>\n",
       "      <td>49.0</td>\n",
       "      <td>0.0</td>\n",
       "      <td>100.0</td>\n",
       "      <td>71.0</td>\n",
       "      <td>139.0</td>\n",
       "      <td>65.0</td>\n",
       "      <td>112.0</td>\n",
       "      <td>0.0</td>\n",
       "    </tr>\n",
       "    <tr>\n",
       "      <th>2</th>\n",
       "      <td>105.0</td>\n",
       "      <td>20.0</td>\n",
       "      <td>95.0</td>\n",
       "      <td>106.0</td>\n",
       "      <td>86.0</td>\n",
       "      <td>35.0</td>\n",
       "      <td>49.0</td>\n",
       "      <td>0.0</td>\n",
       "    </tr>\n",
       "    <tr>\n",
       "      <th>3</th>\n",
       "      <td>82.0</td>\n",
       "      <td>23.0</td>\n",
       "      <td>100.0</td>\n",
       "      <td>82.0</td>\n",
       "      <td>187.0</td>\n",
       "      <td>112.0</td>\n",
       "      <td>141.0</td>\n",
       "      <td>0.0</td>\n",
       "    </tr>\n",
       "    <tr>\n",
       "      <th>4</th>\n",
       "      <td>84.0</td>\n",
       "      <td>18.0</td>\n",
       "      <td>99.0</td>\n",
       "      <td>84.0</td>\n",
       "      <td>124.0</td>\n",
       "      <td>75.0</td>\n",
       "      <td>91.0</td>\n",
       "      <td>0.0</td>\n",
       "    </tr>\n",
       "  </tbody>\n",
       "</table>\n",
       "</div>"
      ],
      "text/plain": [
       "   heart_rate  respiration_over_impedence  spirometry_oxygen_saturation  \\\n",
       "0        87.0                        11.0                          99.0   \n",
       "1        49.0                         0.0                         100.0   \n",
       "2       105.0                        20.0                          95.0   \n",
       "3        82.0                        23.0                         100.0   \n",
       "4        84.0                        18.0                          99.0   \n",
       "\n",
       "   pulse  blood_pressure_systolic  blood_pressure_diastolic  \\\n",
       "0  113.0                    127.0                      55.0   \n",
       "1   71.0                    139.0                      65.0   \n",
       "2  106.0                     86.0                      35.0   \n",
       "3   82.0                    187.0                     112.0   \n",
       "4   84.0                    124.0                      75.0   \n",
       "\n",
       "   blood_pressure_average  Coded  \n",
       "0                    75.0    0.0  \n",
       "1                   112.0    0.0  \n",
       "2                    49.0    0.0  \n",
       "3                   141.0    0.0  \n",
       "4                    91.0    0.0  "
      ]
     },
     "execution_count": 35,
     "metadata": {},
     "output_type": "execute_result"
    }
   ],
   "source": [
    "data.head()"
   ]
  },
  {
   "cell_type": "markdown",
   "metadata": {},
   "source": [
    "# seperating independent and dependent variables"
   ]
  },
  {
   "cell_type": "code",
   "execution_count": 36,
   "metadata": {},
   "outputs": [],
   "source": [
    "\n",
    "\n",
    "x = data.drop(['Coded'], axis=1)\n",
    "y = data['Coded']"
   ]
  },
  {
   "cell_type": "markdown",
   "metadata": {},
   "source": [
    "# Dividing given data into train test"
   ]
  },
  {
   "cell_type": "code",
   "execution_count": 37,
   "metadata": {},
   "outputs": [],
   "source": [
    "from sklearn.model_selection import train_test_split\n",
    "train_x,valid_x,train_y,valid_y = train_test_split(x,y, random_state = 101, stratify=y)"
   ]
  },
  {
   "cell_type": "markdown",
   "metadata": {},
   "source": [
    "# Applying various classification models"
   ]
  },
  {
   "cell_type": "code",
   "execution_count": 38,
   "metadata": {},
   "outputs": [],
   "source": [
    "from sklearn.linear_model import LogisticRegression\n",
    "from sklearn.neighbors import KNeighborsClassifier\n",
    "from sklearn.tree import DecisionTreeClassifier"
   ]
  },
  {
   "cell_type": "markdown",
   "metadata": {},
   "source": [
    "# LogisticRegression"
   ]
  },
  {
   "cell_type": "code",
   "execution_count": 39,
   "metadata": {},
   "outputs": [
    {
     "name": "stderr",
     "output_type": "stream",
     "text": [
      "C:\\Users\\yadda\\Anaconda3\\lib\\site-packages\\sklearn\\linear_model\\logistic.py:432: FutureWarning: Default solver will be changed to 'lbfgs' in 0.22. Specify a solver to silence this warning.\n",
      "  FutureWarning)\n"
     ]
    },
    {
     "data": {
      "text/plain": [
       "(array([0., 0., 0., 0., 0., 1., 0., 0., 0., 0., 0., 0., 0., 0., 0., 0., 0.,\n",
       "        0., 0., 0.]), 0.9375)"
      ]
     },
     "execution_count": 39,
     "metadata": {},
     "output_type": "execute_result"
    }
   ],
   "source": [
    "model1 = LogisticRegression()\n",
    "model1.fit(train_x,train_y)\n",
    "pred1=model1.predict(valid_x)\n",
    "pred1[:20], model1.score(valid_x, valid_y)"
   ]
  },
  {
   "cell_type": "markdown",
   "metadata": {},
   "source": [
    "# KNN-Classification"
   ]
  },
  {
   "cell_type": "code",
   "execution_count": 40,
   "metadata": {},
   "outputs": [
    {
     "data": {
      "text/plain": [
       "(array([0., 0., 0., 0., 0., 0., 0., 0., 0., 0., 0., 0., 0., 0., 0., 0., 0.,\n",
       "        0., 0., 0.]), 0.96875)"
      ]
     },
     "execution_count": 40,
     "metadata": {},
     "output_type": "execute_result"
    }
   ],
   "source": [
    "model2 = KNeighborsClassifier(n_neighbors=5)\n",
    "model2.fit(train_x,train_y)\n",
    "pred2=model2.predict(valid_x)\n",
    "pred2[:20], model2.score(valid_x, valid_y)"
   ]
  },
  {
   "cell_type": "markdown",
   "metadata": {},
   "source": [
    "# DecisionTree"
   ]
  },
  {
   "cell_type": "code",
   "execution_count": 41,
   "metadata": {},
   "outputs": [
    {
     "data": {
      "text/plain": [
       "(array([0., 0., 0., 0., 0., 1., 0., 0., 0., 0., 0., 0., 0., 0., 0., 0., 0.,\n",
       "        0., 0., 0.]), 0.90625)"
      ]
     },
     "execution_count": 41,
     "metadata": {},
     "output_type": "execute_result"
    }
   ],
   "source": [
    "model3 = DecisionTreeClassifier(max_depth=7)\n",
    "model3.fit(train_x,train_y)\n",
    "pred3=model3.predict(valid_x)\n",
    "pred3[:20], model3.score(valid_x, valid_y)"
   ]
  },
  {
   "cell_type": "markdown",
   "metadata": {},
   "source": [
    "# For max voting we use statistical mode as operator"
   ]
  },
  {
   "cell_type": "code",
   "execution_count": 42,
   "metadata": {},
   "outputs": [],
   "source": [
    "from statistics import mode\n",
    "final_pred = np.array([])\n",
    "for i in range(0,len(valid_x)):\n",
    "    final_pred = np.append(final_pred, mode([pred1[i], pred2[i], pred3[i]]))"
   ]
  },
  {
   "cell_type": "code",
   "execution_count": 43,
   "metadata": {},
   "outputs": [],
   "source": [
    "from sklearn.metrics import accuracy_score"
   ]
  },
  {
   "cell_type": "markdown",
   "metadata": {},
   "source": [
    "# Final  Accuracy based on max voting"
   ]
  },
  {
   "cell_type": "code",
   "execution_count": 44,
   "metadata": {},
   "outputs": [
    {
     "name": "stdout",
     "output_type": "stream",
     "text": [
      "Final accuracy of model based on max voting:\n",
      " 0.9375\n"
     ]
    }
   ],
   "source": [
    "print(\"Final accuracy of model based on max voting:\\n\",accuracy_score(valid_y, final_pred))"
   ]
  },
  {
   "cell_type": "markdown",
   "metadata": {},
   "source": [
    "# Final accuracy of all models"
   ]
  },
  {
   "cell_type": "code",
   "execution_count": 49,
   "metadata": {},
   "outputs": [
    {
     "name": "stdout",
     "output_type": "stream",
     "text": [
      "LogisticRegression Accuracy:\n",
      " 0.9375\n",
      "Knn-classification Accuracy:\n",
      " 0.96875\n",
      "DecisionTree accuracy:\n",
      " 0.90625\n"
     ]
    }
   ],
   "source": [
    "print(\"LogisticRegression Accuracy:\\n\",accuracy_score(valid_y, pred1))\n",
    "print(\"Knn-classification Accuracy:\\n\",accuracy_score(valid_y, pred2))\n",
    "print(\"DecisionTree accuracy:\\n\",accuracy_score(valid_y, pred3))"
   ]
  },
  {
   "cell_type": "markdown",
   "metadata": {},
   "source": [
    "# Comparison plot of accuracy "
   ]
  },
  {
   "cell_type": "code",
   "execution_count": 50,
   "metadata": {},
   "outputs": [
    {
     "data": {
      "image/png": "[encoded data removed]",
      "text/plain": [
       "<Figure size 432x288 with 1 Axes>"
      ]
     },
     "metadata": {
      "needs_background": "light"
     },
     "output_type": "display_data"
    }
   ],
   "source": [
    "height = [93,90,97]\n",
    "bars = ('LOGISTIC REGRESSION','DECISIONTREE','KNN-CLASSIFICATION')\n",
    "x_pos = np.arange(len(bars))\n",
    "\n",
    "# Create bars with different colors\n",
    "plt.bar(x_pos, height, color=['black', 'red', 'green'])\n",
    "\n",
    "# Create names on the x-axis\n",
    "plt.xticks(x_pos, bars)\n",
    "\n",
    "plt.title(\"ACCURACY COMPRASION\")\n",
    "plt.xlabel(\"ALGORITHM\")\n",
    "plt.ylabel(\"ACCURACY %\")\n",
    "\n",
    "# Show graph\n",
    "plt.show()"
   ]
  },
  {
   "cell_type": "code",
   "execution_count": null,
   "metadata": {},
   "outputs": [],
   "source": []
  },
  {
   "cell_type": "code",
   "execution_count": null,
   "metadata": {},
   "outputs": [],
   "source": []
  }
 ],
 "metadata": {
  "kernelspec": {
   "display_name": "Python 3",
   "language": "python",
   "name": "python3"
  },
  "language_info": {
   "codemirror_mode": {
    "name": "ipython",
    "version": 3
   },
   "file_extension": ".py",
   "mimetype": "text/x-python",
   "name": "python",
   "nbconvert_exporter": "python",
   "pygments_lexer": "ipython3",
   "version": "3.7.3"
  }
 },
 "nbformat": 4,
 "nbformat_minor": 2
}
